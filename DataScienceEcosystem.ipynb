{
 "cells": [
  {
   "cell_type": "markdown",
   "id": "011ba3f4-186e-4a02-a6a7-507571ac035a",
   "metadata": {},
   "source": [
    "# Data Science Tools and Ecosystem"
   ]
  },
  {
   "cell_type": "markdown",
   "id": "1dde7d6e-685d-4737-8094-520566163b8e",
   "metadata": {},
   "source": [
    "In this notebook, Data Science Tools and Ecosystem are summarized."
   ]
  },
  {
   "cell_type": "markdown",
   "id": "b2567798-6113-432b-926d-735e0f0b60c5",
   "metadata": {},
   "source": [
    "**Objectives**:\n",
    "\n",
    "* List of popular languages for Data Scientists\n",
    "* Commonly used libraries for Data Scientists\n",
    "* Popular Data Science Tools\n"
   ]
  },
  {
   "cell_type": "markdown",
   "id": "d0893acb-16e3-4938-b811-f62c8c29e4a1",
   "metadata": {
    "tags": []
   },
   "source": [
    "Some of the popular languages that Data Scientists use are:\n",
    "\n",
    "    1. python\n",
    "    2. R\n",
    "    3. julia"
   ]
  },
  {
   "cell_type": "markdown",
   "id": "350dce2e-82ac-4703-9e46-e4e8483c8019",
   "metadata": {},
   "source": [
    "Some of the commonly used libraries used by Data Scientists include:\n",
    "\n",
    "    1. pandas (python)\n",
    "    2. numpy (python)\n",
    "    3. matplotlib (python)\n",
    "    4. ggplot (R)"
   ]
  },
  {
   "cell_type": "markdown",
   "id": "8dd6bf14-692b-4fdc-8bc4-b519e81e2fe5",
   "metadata": {},
   "source": [
    "|  Data Science Tools | \n",
    "|:--------:|\n",
    "|  Jupyter Notebook   |\n",
    "|  R Studio  |\n",
    "|  Google Colab   |"
   ]
  },
  {
   "cell_type": "markdown",
   "id": "7a800121-4503-44ff-becd-d80e0d1a0e8b",
   "metadata": {},
   "source": [
    "### Below are a few examples of evaluating arithmetic expressions in Python"
   ]
  },
  {
   "cell_type": "code",
   "execution_count": 4,
   "id": "100c03f0-c60c-4748-9995-044b65029e49",
   "metadata": {
    "tags": []
   },
   "outputs": [
    {
     "data": {
      "text/plain": [
       "17"
      ]
     },
     "execution_count": 4,
     "metadata": {},
     "output_type": "execute_result"
    }
   ],
   "source": [
    "# This a simple arithmetic expression to mutiply then add integers\n",
    "(3*4)+5"
   ]
  },
  {
   "cell_type": "code",
   "execution_count": 6,
   "id": "effc670a-cdf2-4ed9-8c37-c4a9eabac455",
   "metadata": {
    "tags": []
   },
   "outputs": [
    {
     "data": {
      "text/plain": [
       "3.3333333333333335"
      ]
     },
     "execution_count": 6,
     "metadata": {},
     "output_type": "execute_result"
    }
   ],
   "source": [
    "# This will convert 200 minutes to hours by diving by 60\n",
    "minutes = 200\n",
    "mins_in_hours = 60\n",
    "\n",
    "conversion = minutes/mins_in_hours\n",
    "conversion"
   ]
  },
  {
   "cell_type": "markdown",
   "id": "aa51b032-8762-4339-98b4-2ee59c99420d",
   "metadata": {},
   "source": [
    "## Author\n",
    "\n",
    "Tharan Suresh"
   ]
  }
 ],
 "metadata": {
  "kernelspec": {
   "display_name": "Python",
   "language": "python",
   "name": "conda-env-python-py"
  },
  "language_info": {
   "codemirror_mode": {
    "name": "ipython",
    "version": 3
   },
   "file_extension": ".py",
   "mimetype": "text/x-python",
   "name": "python",
   "nbconvert_exporter": "python",
   "pygments_lexer": "ipython3",
   "version": "3.7.12"
  }
 },
 "nbformat": 4,
 "nbformat_minor": 5
}
